{
 "cells": [
  {
   "cell_type": "markdown",
   "id": "96b23ed3",
   "metadata": {},
   "source": [
    "This notebook performs the statistical analysis about the readcounts matrix and the RAS(Reaction Activity  Scores) matrix."
   ]
  },
  {
   "cell_type": "code",
   "execution_count": 1,
   "id": "1e54a0d7",
   "metadata": {},
   "outputs": [],
   "source": [
    "import pandas as pd\n",
    "import scanpy as sc\n",
    "import matplotlib.pyplot as plt"
   ]
  },
  {
   "cell_type": "code",
   "execution_count": 2,
   "id": "1aac65cd",
   "metadata": {},
   "outputs": [],
   "source": [
    "from utils import plot_correlations\n",
    "from utils import plot_distributions\n",
    "from utils import plot_two_reaction_correlation\n",
    "from utils import table_sparsity,table_sparsity_denoised"
   ]
  },
  {
   "cell_type": "markdown",
   "id": "967bca69",
   "metadata": {},
   "source": [
    "## Load datatsets"
   ]
  },
  {
   "cell_type": "code",
   "execution_count": 3,
   "id": "42d84b1d",
   "metadata": {},
   "outputs": [],
   "source": [
    "names_datasets=[\"datasetGSE110949\",\"datasetE-GEOD-86618\",\"datasetGSE118056\"]"
   ]
  },
  {
   "cell_type": "markdown",
   "id": "89213e4e",
   "metadata": {},
   "source": [
    "Load readcounts and RAS without any denoising"
   ]
  },
  {
   "cell_type": "code",
   "execution_count": 4,
   "id": "9fcb5ea0",
   "metadata": {},
   "outputs": [],
   "source": [
    "adata1=sc.read_h5ad(\"outputs/readcounts/datasetGSE110949_nodenoise\")\n",
    "adata2=sc.read_h5ad(\"outputs/readcounts/datasetE-GEOD-86618_nodenoise\")\n",
    "adata3=sc.read_h5ad(\"outputs/readcounts/datasetGSE118056_nodenoise\")\n",
    "adatasets_counts=[adata1,adata2,adata3]"
   ]
  },
  {
   "cell_type": "code",
   "execution_count": 5,
   "id": "e9776cf1",
   "metadata": {},
   "outputs": [],
   "source": [
    "adata1=sc.read_h5ad(\"outputs/ras/datasetGSE110949_nodenoise\")\n",
    "adata2=sc.read_h5ad(\"outputs/ras/datasetE-GEOD-86618_nodenoise\")\n",
    "adata3=sc.read_h5ad(\"outputs/ras/datasetGSE118056_nodenoise\")\n",
    "adatasets_ras=[adata1,adata2,adata3]"
   ]
  },
  {
   "cell_type": "markdown",
   "id": "5d7bc2d4",
   "metadata": {},
   "source": [
    "RAS values with denoising applied on the readcounts matrix"
   ]
  },
  {
   "cell_type": "code",
   "execution_count": 6,
   "id": "e4b35f5c",
   "metadata": {},
   "outputs": [],
   "source": [
    "adata1=sc.read_h5ad(\"outputs/ras/datasetGSE110949_magic_counts\")\n",
    "adata2=sc.read_h5ad(\"outputs/ras/datasetE-GEOD-86618_magic_counts\")\n",
    "adata3=sc.read_h5ad(\"outputs/ras/datasetGSE118056_magic_counts\")\n",
    "adatasets_ras_magic_counts=[adata1,adata2,adata3]"
   ]
  },
  {
   "cell_type": "code",
   "execution_count": 7,
   "id": "63b2c10b",
   "metadata": {},
   "outputs": [],
   "source": [
    "adata1=sc.read_h5ad(\"outputs/ras/datasetGSE110949_enhance_counts\")\n",
    "adata2=sc.read_h5ad(\"outputs/ras/datasetE-GEOD-86618_enhance_counts\")\n",
    "adata3=sc.read_h5ad(\"outputs/ras/datasetGSE118056_enhance_counts\")\n",
    "adatasets_ras_enhance_counts=[adata1,adata2,adata3]"
   ]
  },
  {
   "cell_type": "code",
   "execution_count": 8,
   "id": "1d784867",
   "metadata": {},
   "outputs": [],
   "source": [
    "adata1=sc.read_h5ad(\"outputs/ras/datasetGSE110949_saver_counts\")\n",
    "adata2=sc.read_h5ad(\"outputs/ras/datasetE-GEOD-86618_saver_counts\")\n",
    "adata3=sc.read_h5ad(\"outputs/ras/datasetGSE118056_saver_counts\")\n",
    "adatasets_ras_saver_counts=[adata1,adata2,adata3]"
   ]
  },
  {
   "cell_type": "markdown",
   "id": "5a0aa78d",
   "metadata": {},
   "source": [
    "RAS values with denoising applied on the RAS matrix"
   ]
  },
  {
   "cell_type": "code",
   "execution_count": 9,
   "id": "dd28f8bd",
   "metadata": {},
   "outputs": [],
   "source": [
    "adata1=sc.read_h5ad(\"outputs/ras/datasetGSE110949_magic_ras\")\n",
    "adata2=sc.read_h5ad(\"outputs/ras/datasetE-GEOD-86618_magic_ras\")\n",
    "adata3=sc.read_h5ad(\"outputs/ras/datasetGSE118056_magic_ras\")\n",
    "adatasets_ras_magic_ras=[adata1,adata2,adata3]"
   ]
  },
  {
   "cell_type": "code",
   "execution_count": 10,
   "id": "77ad04c0",
   "metadata": {},
   "outputs": [],
   "source": [
    "adata1=sc.read_h5ad(\"outputs/ras/datasetGSE110949_enhance_ras\")\n",
    "adata2=sc.read_h5ad(\"outputs/ras/datasetE-GEOD-86618_enhance_ras\")\n",
    "adata3=sc.read_h5ad(\"outputs/ras/datasetGSE118056_enhance_ras\")\n",
    "adatasets_ras_enhance_ras=[adata1,adata2,adata3]"
   ]
  },
  {
   "cell_type": "code",
   "execution_count": 11,
   "id": "780612ae",
   "metadata": {},
   "outputs": [],
   "source": [
    "adata1=sc.read_h5ad(\"outputs/ras/datasetGSE110949_saver_ras\")\n",
    "adata2=sc.read_h5ad(\"outputs/ras/datasetE-GEOD-86618_saver_ras\")\n",
    "adata3=sc.read_h5ad(\"outputs/ras/datasetGSE118056_saver_ras\")\n",
    "adatasets_ras_saver_ras=[adata1,adata2,adata3]"
   ]
  },
  {
   "cell_type": "code",
   "execution_count": 12,
   "id": "1e0b5b50",
   "metadata": {},
   "outputs": [
    {
     "data": {
      "text/html": [
       "<div>\n",
       "<style scoped>\n",
       "    .dataframe tbody tr th:only-of-type {\n",
       "        vertical-align: middle;\n",
       "    }\n",
       "\n",
       "    .dataframe tbody tr th {\n",
       "        vertical-align: top;\n",
       "    }\n",
       "\n",
       "    .dataframe thead th {\n",
       "        text-align: right;\n",
       "    }\n",
       "</style>\n",
       "<table border=\"1\" class=\"dataframe\">\n",
       "  <thead>\n",
       "    <tr style=\"text-align: right;\">\n",
       "      <th>REACTIONS</th>\n",
       "      <th>AACOAT</th>\n",
       "      <th>r0450</th>\n",
       "      <th>SACCD3m</th>\n",
       "      <th>r0525</th>\n",
       "      <th>ACCOAC</th>\n",
       "      <th>ACOAD9m</th>\n",
       "      <th>betaOxidation</th>\n",
       "      <th>ACACT1m</th>\n",
       "      <th>ACACT1r</th>\n",
       "      <th>ACITL</th>\n",
       "      <th>...</th>\n",
       "      <th>TMDK1</th>\n",
       "      <th>TKT1</th>\n",
       "      <th>TKT2</th>\n",
       "      <th>TMLYSOX</th>\n",
       "      <th>TPI</th>\n",
       "      <th>CystineReductaseNADPH</th>\n",
       "      <th>TMDS</th>\n",
       "      <th>OMPDC</th>\n",
       "      <th>ORPT</th>\n",
       "      <th>CYOR_u10mi</th>\n",
       "    </tr>\n",
       "  </thead>\n",
       "  <tbody>\n",
       "    <tr>\n",
       "      <th>Wildtype_GAATATTTATCT</th>\n",
       "      <td>84.806000</td>\n",
       "      <td>0.042</td>\n",
       "      <td>0.075</td>\n",
       "      <td>0.075</td>\n",
       "      <td>0.155000</td>\n",
       "      <td>85.473007</td>\n",
       "      <td>0.154</td>\n",
       "      <td>425.695007</td>\n",
       "      <td>170.988007</td>\n",
       "      <td>42.999001</td>\n",
       "      <td>...</td>\n",
       "      <td>85.679001</td>\n",
       "      <td>299.260010</td>\n",
       "      <td>299.260010</td>\n",
       "      <td>0.005</td>\n",
       "      <td>1022.343994</td>\n",
       "      <td>1362.137939</td>\n",
       "      <td>511.691010</td>\n",
       "      <td>0.202000</td>\n",
       "      <td>0.202000</td>\n",
       "      <td>43.070000</td>\n",
       "    </tr>\n",
       "    <tr>\n",
       "      <th>Wildtype_ATAATCGGCTGA</th>\n",
       "      <td>0.106000</td>\n",
       "      <td>0.042</td>\n",
       "      <td>0.075</td>\n",
       "      <td>0.075</td>\n",
       "      <td>50.854000</td>\n",
       "      <td>51.443001</td>\n",
       "      <td>0.017</td>\n",
       "      <td>407.584991</td>\n",
       "      <td>153.285004</td>\n",
       "      <td>51.340000</td>\n",
       "      <td>...</td>\n",
       "      <td>51.237000</td>\n",
       "      <td>510.151001</td>\n",
       "      <td>510.151001</td>\n",
       "      <td>0.005</td>\n",
       "      <td>1121.352051</td>\n",
       "      <td>204.677002</td>\n",
       "      <td>103.188004</td>\n",
       "      <td>50.889999</td>\n",
       "      <td>50.889999</td>\n",
       "      <td>51.185001</td>\n",
       "    </tr>\n",
       "    <tr>\n",
       "      <th>Wildtype_GTCTAACTATGA</th>\n",
       "      <td>0.106000</td>\n",
       "      <td>0.042</td>\n",
       "      <td>0.075</td>\n",
       "      <td>0.075</td>\n",
       "      <td>92.282005</td>\n",
       "      <td>231.059998</td>\n",
       "      <td>0.017</td>\n",
       "      <td>185.947006</td>\n",
       "      <td>0.322000</td>\n",
       "      <td>92.811996</td>\n",
       "      <td>...</td>\n",
       "      <td>46.489998</td>\n",
       "      <td>509.799988</td>\n",
       "      <td>509.799988</td>\n",
       "      <td>0.005</td>\n",
       "      <td>556.176025</td>\n",
       "      <td>187.013992</td>\n",
       "      <td>138.966995</td>\n",
       "      <td>0.202000</td>\n",
       "      <td>0.202000</td>\n",
       "      <td>46.549000</td>\n",
       "    </tr>\n",
       "    <tr>\n",
       "      <th>Wildtype_TTTCTGTCTTTN</th>\n",
       "      <td>109.779999</td>\n",
       "      <td>0.042</td>\n",
       "      <td>0.075</td>\n",
       "      <td>0.075</td>\n",
       "      <td>0.155000</td>\n",
       "      <td>110.464996</td>\n",
       "      <td>0.017</td>\n",
       "      <td>165.906006</td>\n",
       "      <td>110.444000</td>\n",
       "      <td>165.337997</td>\n",
       "      <td>...</td>\n",
       "      <td>55.009998</td>\n",
       "      <td>276.321014</td>\n",
       "      <td>276.321014</td>\n",
       "      <td>0.005</td>\n",
       "      <td>663.208984</td>\n",
       "      <td>386.696991</td>\n",
       "      <td>0.032000</td>\n",
       "      <td>0.202000</td>\n",
       "      <td>0.202000</td>\n",
       "      <td>0.478000</td>\n",
       "    </tr>\n",
       "    <tr>\n",
       "      <th>Wildtype_TGCCACATGCTT</th>\n",
       "      <td>0.106000</td>\n",
       "      <td>0.042</td>\n",
       "      <td>0.075</td>\n",
       "      <td>0.075</td>\n",
       "      <td>0.155000</td>\n",
       "      <td>55.143002</td>\n",
       "      <td>0.017</td>\n",
       "      <td>220.005005</td>\n",
       "      <td>273.455994</td>\n",
       "      <td>0.587000</td>\n",
       "      <td>...</td>\n",
       "      <td>273.432007</td>\n",
       "      <td>438.100006</td>\n",
       "      <td>438.100006</td>\n",
       "      <td>0.005</td>\n",
       "      <td>275.032013</td>\n",
       "      <td>492.466003</td>\n",
       "      <td>328.898987</td>\n",
       "      <td>54.587002</td>\n",
       "      <td>54.587002</td>\n",
       "      <td>109.289001</td>\n",
       "    </tr>\n",
       "    <tr>\n",
       "      <th>...</th>\n",
       "      <td>...</td>\n",
       "      <td>...</td>\n",
       "      <td>...</td>\n",
       "      <td>...</td>\n",
       "      <td>...</td>\n",
       "      <td>...</td>\n",
       "      <td>...</td>\n",
       "      <td>...</td>\n",
       "      <td>...</td>\n",
       "      <td>...</td>\n",
       "      <td>...</td>\n",
       "      <td>...</td>\n",
       "      <td>...</td>\n",
       "      <td>...</td>\n",
       "      <td>...</td>\n",
       "      <td>...</td>\n",
       "      <td>...</td>\n",
       "      <td>...</td>\n",
       "      <td>...</td>\n",
       "      <td>...</td>\n",
       "      <td>...</td>\n",
       "    </tr>\n",
       "    <tr>\n",
       "      <th>Metformin_CGCCTGTGCTAT</th>\n",
       "      <td>0.106000</td>\n",
       "      <td>0.042</td>\n",
       "      <td>0.075</td>\n",
       "      <td>0.075</td>\n",
       "      <td>0.155000</td>\n",
       "      <td>0.712000</td>\n",
       "      <td>0.017</td>\n",
       "      <td>225.464005</td>\n",
       "      <td>672.877991</td>\n",
       "      <td>0.587000</td>\n",
       "      <td>...</td>\n",
       "      <td>448.548004</td>\n",
       "      <td>225.399994</td>\n",
       "      <td>225.399994</td>\n",
       "      <td>0.005</td>\n",
       "      <td>1570.603027</td>\n",
       "      <td>0.713000</td>\n",
       "      <td>224.559998</td>\n",
       "      <td>0.202000</td>\n",
       "      <td>0.202000</td>\n",
       "      <td>0.478000</td>\n",
       "    </tr>\n",
       "    <tr>\n",
       "      <th>Metformin_GCTGCTCGGATG</th>\n",
       "      <td>0.106000</td>\n",
       "      <td>0.042</td>\n",
       "      <td>0.075</td>\n",
       "      <td>0.075</td>\n",
       "      <td>0.155000</td>\n",
       "      <td>0.712000</td>\n",
       "      <td>0.017</td>\n",
       "      <td>245.458008</td>\n",
       "      <td>0.397000</td>\n",
       "      <td>0.587000</td>\n",
       "      <td>...</td>\n",
       "      <td>0.145000</td>\n",
       "      <td>490.108002</td>\n",
       "      <td>490.108002</td>\n",
       "      <td>0.005</td>\n",
       "      <td>1223.818970</td>\n",
       "      <td>1468.158081</td>\n",
       "      <td>0.045000</td>\n",
       "      <td>0.202000</td>\n",
       "      <td>0.202000</td>\n",
       "      <td>0.478000</td>\n",
       "    </tr>\n",
       "    <tr>\n",
       "      <th>Metformin_GACCACTTAACT</th>\n",
       "      <td>0.106000</td>\n",
       "      <td>0.042</td>\n",
       "      <td>0.075</td>\n",
       "      <td>0.075</td>\n",
       "      <td>0.155000</td>\n",
       "      <td>258.584991</td>\n",
       "      <td>0.017</td>\n",
       "      <td>776.224976</td>\n",
       "      <td>259.283997</td>\n",
       "      <td>0.587000</td>\n",
       "      <td>...</td>\n",
       "      <td>517.718994</td>\n",
       "      <td>260.156006</td>\n",
       "      <td>260.156006</td>\n",
       "      <td>0.005</td>\n",
       "      <td>520.174011</td>\n",
       "      <td>777.790039</td>\n",
       "      <td>1.896000</td>\n",
       "      <td>0.202000</td>\n",
       "      <td>0.202000</td>\n",
       "      <td>0.478000</td>\n",
       "    </tr>\n",
       "    <tr>\n",
       "      <th>Metformin_CGGTAGGCGTAT</th>\n",
       "      <td>0.106000</td>\n",
       "      <td>0.042</td>\n",
       "      <td>0.075</td>\n",
       "      <td>0.075</td>\n",
       "      <td>0.155000</td>\n",
       "      <td>0.712000</td>\n",
       "      <td>0.017</td>\n",
       "      <td>529.776978</td>\n",
       "      <td>265.592010</td>\n",
       "      <td>793.114014</td>\n",
       "      <td>...</td>\n",
       "      <td>0.158000</td>\n",
       "      <td>530.617004</td>\n",
       "      <td>530.617004</td>\n",
       "      <td>0.005</td>\n",
       "      <td>531.979004</td>\n",
       "      <td>795.931030</td>\n",
       "      <td>0.078000</td>\n",
       "      <td>0.202000</td>\n",
       "      <td>0.202000</td>\n",
       "      <td>0.478000</td>\n",
       "    </tr>\n",
       "    <tr>\n",
       "      <th>Metformin_GGCCCGTATGCG</th>\n",
       "      <td>0.106000</td>\n",
       "      <td>0.042</td>\n",
       "      <td>0.075</td>\n",
       "      <td>0.075</td>\n",
       "      <td>0.155000</td>\n",
       "      <td>0.712000</td>\n",
       "      <td>0.017</td>\n",
       "      <td>898.919983</td>\n",
       "      <td>226.188995</td>\n",
       "      <td>224.973007</td>\n",
       "      <td>...</td>\n",
       "      <td>674.526978</td>\n",
       "      <td>2.421000</td>\n",
       "      <td>2.421000</td>\n",
       "      <td>0.005</td>\n",
       "      <td>2250.415039</td>\n",
       "      <td>451.106995</td>\n",
       "      <td>227.164001</td>\n",
       "      <td>0.202000</td>\n",
       "      <td>0.202000</td>\n",
       "      <td>0.478000</td>\n",
       "    </tr>\n",
       "  </tbody>\n",
       "</table>\n",
       "<p>695 rows × 302 columns</p>\n",
       "</div>"
      ],
      "text/plain": [
       "REACTIONS                   AACOAT  r0450  SACCD3m  r0525     ACCOAC  \\\n",
       "Wildtype_GAATATTTATCT    84.806000  0.042    0.075  0.075   0.155000   \n",
       "Wildtype_ATAATCGGCTGA     0.106000  0.042    0.075  0.075  50.854000   \n",
       "Wildtype_GTCTAACTATGA     0.106000  0.042    0.075  0.075  92.282005   \n",
       "Wildtype_TTTCTGTCTTTN   109.779999  0.042    0.075  0.075   0.155000   \n",
       "Wildtype_TGCCACATGCTT     0.106000  0.042    0.075  0.075   0.155000   \n",
       "...                            ...    ...      ...    ...        ...   \n",
       "Metformin_CGCCTGTGCTAT    0.106000  0.042    0.075  0.075   0.155000   \n",
       "Metformin_GCTGCTCGGATG    0.106000  0.042    0.075  0.075   0.155000   \n",
       "Metformin_GACCACTTAACT    0.106000  0.042    0.075  0.075   0.155000   \n",
       "Metformin_CGGTAGGCGTAT    0.106000  0.042    0.075  0.075   0.155000   \n",
       "Metformin_GGCCCGTATGCG    0.106000  0.042    0.075  0.075   0.155000   \n",
       "\n",
       "REACTIONS                  ACOAD9m  betaOxidation     ACACT1m     ACACT1r  \\\n",
       "Wildtype_GAATATTTATCT    85.473007          0.154  425.695007  170.988007   \n",
       "Wildtype_ATAATCGGCTGA    51.443001          0.017  407.584991  153.285004   \n",
       "Wildtype_GTCTAACTATGA   231.059998          0.017  185.947006    0.322000   \n",
       "Wildtype_TTTCTGTCTTTN   110.464996          0.017  165.906006  110.444000   \n",
       "Wildtype_TGCCACATGCTT    55.143002          0.017  220.005005  273.455994   \n",
       "...                            ...            ...         ...         ...   \n",
       "Metformin_CGCCTGTGCTAT    0.712000          0.017  225.464005  672.877991   \n",
       "Metformin_GCTGCTCGGATG    0.712000          0.017  245.458008    0.397000   \n",
       "Metformin_GACCACTTAACT  258.584991          0.017  776.224976  259.283997   \n",
       "Metformin_CGGTAGGCGTAT    0.712000          0.017  529.776978  265.592010   \n",
       "Metformin_GGCCCGTATGCG    0.712000          0.017  898.919983  226.188995   \n",
       "\n",
       "REACTIONS                    ACITL  ...       TMDK1        TKT1        TKT2  \\\n",
       "Wildtype_GAATATTTATCT    42.999001  ...   85.679001  299.260010  299.260010   \n",
       "Wildtype_ATAATCGGCTGA    51.340000  ...   51.237000  510.151001  510.151001   \n",
       "Wildtype_GTCTAACTATGA    92.811996  ...   46.489998  509.799988  509.799988   \n",
       "Wildtype_TTTCTGTCTTTN   165.337997  ...   55.009998  276.321014  276.321014   \n",
       "Wildtype_TGCCACATGCTT     0.587000  ...  273.432007  438.100006  438.100006   \n",
       "...                            ...  ...         ...         ...         ...   \n",
       "Metformin_CGCCTGTGCTAT    0.587000  ...  448.548004  225.399994  225.399994   \n",
       "Metformin_GCTGCTCGGATG    0.587000  ...    0.145000  490.108002  490.108002   \n",
       "Metformin_GACCACTTAACT    0.587000  ...  517.718994  260.156006  260.156006   \n",
       "Metformin_CGGTAGGCGTAT  793.114014  ...    0.158000  530.617004  530.617004   \n",
       "Metformin_GGCCCGTATGCG  224.973007  ...  674.526978    2.421000    2.421000   \n",
       "\n",
       "REACTIONS               TMLYSOX          TPI  CystineReductaseNADPH  \\\n",
       "Wildtype_GAATATTTATCT     0.005  1022.343994            1362.137939   \n",
       "Wildtype_ATAATCGGCTGA     0.005  1121.352051             204.677002   \n",
       "Wildtype_GTCTAACTATGA     0.005   556.176025             187.013992   \n",
       "Wildtype_TTTCTGTCTTTN     0.005   663.208984             386.696991   \n",
       "Wildtype_TGCCACATGCTT     0.005   275.032013             492.466003   \n",
       "...                         ...          ...                    ...   \n",
       "Metformin_CGCCTGTGCTAT    0.005  1570.603027               0.713000   \n",
       "Metformin_GCTGCTCGGATG    0.005  1223.818970            1468.158081   \n",
       "Metformin_GACCACTTAACT    0.005   520.174011             777.790039   \n",
       "Metformin_CGGTAGGCGTAT    0.005   531.979004             795.931030   \n",
       "Metformin_GGCCCGTATGCG    0.005  2250.415039             451.106995   \n",
       "\n",
       "REACTIONS                     TMDS      OMPDC       ORPT  CYOR_u10mi  \n",
       "Wildtype_GAATATTTATCT   511.691010   0.202000   0.202000   43.070000  \n",
       "Wildtype_ATAATCGGCTGA   103.188004  50.889999  50.889999   51.185001  \n",
       "Wildtype_GTCTAACTATGA   138.966995   0.202000   0.202000   46.549000  \n",
       "Wildtype_TTTCTGTCTTTN     0.032000   0.202000   0.202000    0.478000  \n",
       "Wildtype_TGCCACATGCTT   328.898987  54.587002  54.587002  109.289001  \n",
       "...                            ...        ...        ...         ...  \n",
       "Metformin_CGCCTGTGCTAT  224.559998   0.202000   0.202000    0.478000  \n",
       "Metformin_GCTGCTCGGATG    0.045000   0.202000   0.202000    0.478000  \n",
       "Metformin_GACCACTTAACT    1.896000   0.202000   0.202000    0.478000  \n",
       "Metformin_CGGTAGGCGTAT    0.078000   0.202000   0.202000    0.478000  \n",
       "Metformin_GGCCCGTATGCG  227.164001   0.202000   0.202000    0.478000  \n",
       "\n",
       "[695 rows x 302 columns]"
      ]
     },
     "execution_count": 12,
     "metadata": {},
     "output_type": "execute_result"
    }
   ],
   "source": [
    "adatasets_ras_saver_counts[0].to_df()"
   ]
  },
  {
   "cell_type": "markdown",
   "id": "14c14a6d",
   "metadata": {},
   "source": [
    "## Level of sparsity of readcounts and RAS matrix"
   ]
  },
  {
   "cell_type": "markdown",
   "id": "326a6540",
   "metadata": {},
   "source": [
    "Table that summarizes the level of sparsity on readcounts matrix and ras matrix without any denoising"
   ]
  },
  {
   "cell_type": "code",
   "execution_count": 13,
   "id": "861a35ac",
   "metadata": {},
   "outputs": [
    {
     "data": {
      "text/html": [
       "<div>\n",
       "<style scoped>\n",
       "    .dataframe tbody tr th:only-of-type {\n",
       "        vertical-align: middle;\n",
       "    }\n",
       "\n",
       "    .dataframe tbody tr th {\n",
       "        vertical-align: top;\n",
       "    }\n",
       "\n",
       "    .dataframe thead th {\n",
       "        text-align: right;\n",
       "    }\n",
       "</style>\n",
       "<table border=\"1\" class=\"dataframe\">\n",
       "  <thead>\n",
       "    <tr style=\"text-align: right;\">\n",
       "      <th></th>\n",
       "      <th>count_matrix</th>\n",
       "      <th>metabolic_countmatrix</th>\n",
       "      <th>ras_matrix</th>\n",
       "      <th>essential ras_matrix</th>\n",
       "    </tr>\n",
       "  </thead>\n",
       "  <tbody>\n",
       "    <tr>\n",
       "      <th>datasetGSE110949</th>\n",
       "      <td>80.7%</td>\n",
       "      <td>60.06%</td>\n",
       "      <td>62.87%</td>\n",
       "      <td>55.64%</td>\n",
       "    </tr>\n",
       "    <tr>\n",
       "      <th>datasetE-GEOD-86618</th>\n",
       "      <td>56.18%</td>\n",
       "      <td>28.35%</td>\n",
       "      <td>25.01%</td>\n",
       "      <td>13.42%</td>\n",
       "    </tr>\n",
       "    <tr>\n",
       "      <th>datasetGSE118056</th>\n",
       "      <td>81.46%</td>\n",
       "      <td>60.89%</td>\n",
       "      <td>59.91%</td>\n",
       "      <td>51.43%</td>\n",
       "    </tr>\n",
       "  </tbody>\n",
       "</table>\n",
       "</div>"
      ],
      "text/plain": [
       "                    count_matrix metabolic_countmatrix ras_matrix  \\\n",
       "datasetGSE110949           80.7%                60.06%     62.87%   \n",
       "datasetE-GEOD-86618       56.18%                28.35%     25.01%   \n",
       "datasetGSE118056          81.46%                60.89%     59.91%   \n",
       "\n",
       "                    essential ras_matrix  \n",
       "datasetGSE110949                  55.64%  \n",
       "datasetE-GEOD-86618               13.42%  \n",
       "datasetGSE118056                  51.43%  "
      ]
     },
     "execution_count": 13,
     "metadata": {},
     "output_type": "execute_result"
    }
   ],
   "source": [
    "table_sparsity(adatasets_counts,adatasets_ras,names_datasets)"
   ]
  },
  {
   "cell_type": "markdown",
   "id": "6b34e74a",
   "metadata": {},
   "source": [
    "Table that summarizes the level of sparsity on ras matrix with any denoising applied on the readcount matrix"
   ]
  },
  {
   "cell_type": "code",
   "execution_count": 14,
   "id": "b4a8e385",
   "metadata": {},
   "outputs": [
    {
     "data": {
      "text/html": [
       "<div>\n",
       "<style scoped>\n",
       "    .dataframe tbody tr th:only-of-type {\n",
       "        vertical-align: middle;\n",
       "    }\n",
       "\n",
       "    .dataframe tbody tr th {\n",
       "        vertical-align: top;\n",
       "    }\n",
       "\n",
       "    .dataframe thead th {\n",
       "        text-align: right;\n",
       "    }\n",
       "</style>\n",
       "<table border=\"1\" class=\"dataframe\">\n",
       "  <thead>\n",
       "    <tr style=\"text-align: right;\">\n",
       "      <th></th>\n",
       "      <th>magic</th>\n",
       "      <th>enhance</th>\n",
       "      <th>saver</th>\n",
       "    </tr>\n",
       "  </thead>\n",
       "  <tbody>\n",
       "    <tr>\n",
       "      <th>datasetGSE110949</th>\n",
       "      <td>0.05%(0.0%)</td>\n",
       "      <td>8.27%(4.36%)</td>\n",
       "      <td>0.0%(0.0%)</td>\n",
       "    </tr>\n",
       "    <tr>\n",
       "      <th>datasetE-GEOD-86618</th>\n",
       "      <td>0.01%(0.0%)</td>\n",
       "      <td>4.77%(2.47%)</td>\n",
       "      <td>0.0%(0.0%)</td>\n",
       "    </tr>\n",
       "    <tr>\n",
       "      <th>datasetGSE118056</th>\n",
       "      <td>1.91%(0.01%)</td>\n",
       "      <td>5.58%(1.74%)</td>\n",
       "      <td>0.0%(0.0%)</td>\n",
       "    </tr>\n",
       "  </tbody>\n",
       "</table>\n",
       "</div>"
      ],
      "text/plain": [
       "                            magic       enhance       saver\n",
       "datasetGSE110949      0.05%(0.0%)  8.27%(4.36%)  0.0%(0.0%)\n",
       "datasetE-GEOD-86618   0.01%(0.0%)  4.77%(2.47%)  0.0%(0.0%)\n",
       "datasetGSE118056     1.91%(0.01%)  5.58%(1.74%)  0.0%(0.0%)"
      ]
     },
     "execution_count": 14,
     "metadata": {},
     "output_type": "execute_result"
    }
   ],
   "source": [
    "table_sparsity_denoised(adatasets_ras_magic_counts,\n",
    "                        adatasets_ras_enhance_counts,\n",
    "                        adatasets_ras_saver_counts,\n",
    "                        names_datasets)"
   ]
  },
  {
   "cell_type": "markdown",
   "id": "92353b36",
   "metadata": {},
   "source": [
    "Table that summarizes the level of sparsity on ras matrix with any denoising applied on the ras matrix"
   ]
  },
  {
   "cell_type": "code",
   "execution_count": 15,
   "id": "a14bc8c6",
   "metadata": {},
   "outputs": [
    {
     "data": {
      "text/html": [
       "<div>\n",
       "<style scoped>\n",
       "    .dataframe tbody tr th:only-of-type {\n",
       "        vertical-align: middle;\n",
       "    }\n",
       "\n",
       "    .dataframe tbody tr th {\n",
       "        vertical-align: top;\n",
       "    }\n",
       "\n",
       "    .dataframe thead th {\n",
       "        text-align: right;\n",
       "    }\n",
       "</style>\n",
       "<table border=\"1\" class=\"dataframe\">\n",
       "  <thead>\n",
       "    <tr style=\"text-align: right;\">\n",
       "      <th></th>\n",
       "      <th>magic</th>\n",
       "      <th>enhance</th>\n",
       "      <th>saver</th>\n",
       "    </tr>\n",
       "  </thead>\n",
       "  <tbody>\n",
       "    <tr>\n",
       "      <th>datasetGSE110949</th>\n",
       "      <td>1.04%(0.0%)</td>\n",
       "      <td>10.59%(5.56%)</td>\n",
       "      <td>0.99%(0.0%)</td>\n",
       "    </tr>\n",
       "    <tr>\n",
       "      <th>datasetE-GEOD-86618</th>\n",
       "      <td>0.04%(0.0%)</td>\n",
       "      <td>3.63%(1.23%)</td>\n",
       "      <td>0.0%(0.0%)</td>\n",
       "    </tr>\n",
       "    <tr>\n",
       "      <th>datasetGSE118056</th>\n",
       "      <td>1.07%(0.0%)</td>\n",
       "      <td>9.68%(5.37%)</td>\n",
       "      <td>0.0%(0.0%)</td>\n",
       "    </tr>\n",
       "  </tbody>\n",
       "</table>\n",
       "</div>"
      ],
      "text/plain": [
       "                           magic        enhance        saver\n",
       "datasetGSE110949     1.04%(0.0%)  10.59%(5.56%)  0.99%(0.0%)\n",
       "datasetE-GEOD-86618  0.04%(0.0%)   3.63%(1.23%)   0.0%(0.0%)\n",
       "datasetGSE118056     1.07%(0.0%)   9.68%(5.37%)   0.0%(0.0%)"
      ]
     },
     "execution_count": 15,
     "metadata": {},
     "output_type": "execute_result"
    }
   ],
   "source": [
    "table_sparsity_denoised(adatasets_ras_magic_ras,\n",
    "                        adatasets_ras_enhance_ras,\n",
    "                        adatasets_ras_saver_ras,\n",
    "                        names_datasets)"
   ]
  },
  {
   "cell_type": "code",
   "execution_count": 16,
   "id": "ee637d03",
   "metadata": {},
   "outputs": [
    {
     "data": {
      "text/html": [
       "<div>\n",
       "<style scoped>\n",
       "    .dataframe tbody tr th:only-of-type {\n",
       "        vertical-align: middle;\n",
       "    }\n",
       "\n",
       "    .dataframe tbody tr th {\n",
       "        vertical-align: top;\n",
       "    }\n",
       "\n",
       "    .dataframe thead th {\n",
       "        text-align: right;\n",
       "    }\n",
       "</style>\n",
       "<table border=\"1\" class=\"dataframe\">\n",
       "  <thead>\n",
       "    <tr style=\"text-align: right;\">\n",
       "      <th>REACTIONS</th>\n",
       "      <th>AACOAT</th>\n",
       "      <th>r0450</th>\n",
       "      <th>SACCD3m</th>\n",
       "      <th>r0525</th>\n",
       "      <th>ACCOAC</th>\n",
       "      <th>ACOAD9m</th>\n",
       "      <th>betaOxidation</th>\n",
       "      <th>ACACT1m</th>\n",
       "      <th>ACACT1r</th>\n",
       "      <th>ACITL</th>\n",
       "      <th>...</th>\n",
       "      <th>TMDK1</th>\n",
       "      <th>TKT1</th>\n",
       "      <th>TKT2</th>\n",
       "      <th>TMLYSOX</th>\n",
       "      <th>TPI</th>\n",
       "      <th>CystineReductaseNADPH</th>\n",
       "      <th>TMDS</th>\n",
       "      <th>OMPDC</th>\n",
       "      <th>ORPT</th>\n",
       "      <th>CYOR_u10mi</th>\n",
       "    </tr>\n",
       "  </thead>\n",
       "  <tbody>\n",
       "    <tr>\n",
       "      <th>AAACCTGGTTGATTCG-1</th>\n",
       "      <td>0.088</td>\n",
       "      <td>0.036</td>\n",
       "      <td>0.001</td>\n",
       "      <td>0.001</td>\n",
       "      <td>0.179</td>\n",
       "      <td>0.229000</td>\n",
       "      <td>0.049</td>\n",
       "      <td>81.669998</td>\n",
       "      <td>0.048000</td>\n",
       "      <td>81.518997</td>\n",
       "      <td>...</td>\n",
       "      <td>0.084</td>\n",
       "      <td>570.354004</td>\n",
       "      <td>570.354004</td>\n",
       "      <td>0.055</td>\n",
       "      <td>245.470993</td>\n",
       "      <td>161.824005</td>\n",
       "      <td>0.005000</td>\n",
       "      <td>80.950996</td>\n",
       "      <td>80.950996</td>\n",
       "      <td>0.693000</td>\n",
       "    </tr>\n",
       "    <tr>\n",
       "      <th>AAAGATGAGAGGTACC-1</th>\n",
       "      <td>0.090</td>\n",
       "      <td>0.035</td>\n",
       "      <td>0.001</td>\n",
       "      <td>0.001</td>\n",
       "      <td>0.179</td>\n",
       "      <td>0.255000</td>\n",
       "      <td>0.075</td>\n",
       "      <td>0.823000</td>\n",
       "      <td>0.040000</td>\n",
       "      <td>94.082001</td>\n",
       "      <td>...</td>\n",
       "      <td>0.072</td>\n",
       "      <td>378.551025</td>\n",
       "      <td>378.551025</td>\n",
       "      <td>0.038</td>\n",
       "      <td>283.570007</td>\n",
       "      <td>0.201000</td>\n",
       "      <td>0.004000</td>\n",
       "      <td>0.110000</td>\n",
       "      <td>0.110000</td>\n",
       "      <td>0.503000</td>\n",
       "    </tr>\n",
       "    <tr>\n",
       "      <th>AAAGATGGTACTTGAC-1</th>\n",
       "      <td>0.087</td>\n",
       "      <td>0.036</td>\n",
       "      <td>0.001</td>\n",
       "      <td>0.001</td>\n",
       "      <td>0.179</td>\n",
       "      <td>82.450996</td>\n",
       "      <td>0.090</td>\n",
       "      <td>165.283005</td>\n",
       "      <td>0.089000</td>\n",
       "      <td>0.132000</td>\n",
       "      <td>...</td>\n",
       "      <td>0.071</td>\n",
       "      <td>333.498016</td>\n",
       "      <td>333.498016</td>\n",
       "      <td>0.157</td>\n",
       "      <td>664.119019</td>\n",
       "      <td>82.397003</td>\n",
       "      <td>0.005000</td>\n",
       "      <td>0.094000</td>\n",
       "      <td>0.094000</td>\n",
       "      <td>0.807000</td>\n",
       "    </tr>\n",
       "    <tr>\n",
       "      <th>AAAGCAAGTGGCAAAC-1</th>\n",
       "      <td>0.093</td>\n",
       "      <td>0.038</td>\n",
       "      <td>0.001</td>\n",
       "      <td>0.001</td>\n",
       "      <td>0.179</td>\n",
       "      <td>0.243000</td>\n",
       "      <td>0.063</td>\n",
       "      <td>0.823000</td>\n",
       "      <td>0.046000</td>\n",
       "      <td>0.082000</td>\n",
       "      <td>...</td>\n",
       "      <td>0.059</td>\n",
       "      <td>0.530000</td>\n",
       "      <td>0.530000</td>\n",
       "      <td>0.048</td>\n",
       "      <td>215.223999</td>\n",
       "      <td>0.212000</td>\n",
       "      <td>0.008000</td>\n",
       "      <td>0.124000</td>\n",
       "      <td>0.124000</td>\n",
       "      <td>0.590000</td>\n",
       "    </tr>\n",
       "    <tr>\n",
       "      <th>AAAGTAGAGGGTATCG-1</th>\n",
       "      <td>0.089</td>\n",
       "      <td>0.043</td>\n",
       "      <td>0.001</td>\n",
       "      <td>0.001</td>\n",
       "      <td>0.179</td>\n",
       "      <td>0.258000</td>\n",
       "      <td>0.078</td>\n",
       "      <td>106.967003</td>\n",
       "      <td>0.050000</td>\n",
       "      <td>0.073000</td>\n",
       "      <td>...</td>\n",
       "      <td>0.148</td>\n",
       "      <td>644.020996</td>\n",
       "      <td>644.020996</td>\n",
       "      <td>0.051</td>\n",
       "      <td>535.953979</td>\n",
       "      <td>0.218000</td>\n",
       "      <td>0.004000</td>\n",
       "      <td>0.096000</td>\n",
       "      <td>0.096000</td>\n",
       "      <td>0.376000</td>\n",
       "    </tr>\n",
       "    <tr>\n",
       "      <th>...</th>\n",
       "      <td>...</td>\n",
       "      <td>...</td>\n",
       "      <td>...</td>\n",
       "      <td>...</td>\n",
       "      <td>...</td>\n",
       "      <td>...</td>\n",
       "      <td>...</td>\n",
       "      <td>...</td>\n",
       "      <td>...</td>\n",
       "      <td>...</td>\n",
       "      <td>...</td>\n",
       "      <td>...</td>\n",
       "      <td>...</td>\n",
       "      <td>...</td>\n",
       "      <td>...</td>\n",
       "      <td>...</td>\n",
       "      <td>...</td>\n",
       "      <td>...</td>\n",
       "      <td>...</td>\n",
       "      <td>...</td>\n",
       "      <td>...</td>\n",
       "    </tr>\n",
       "    <tr>\n",
       "      <th>TTTGTCAGTCGGCTCA-2</th>\n",
       "      <td>0.134</td>\n",
       "      <td>0.092</td>\n",
       "      <td>0.001</td>\n",
       "      <td>0.001</td>\n",
       "      <td>0.179</td>\n",
       "      <td>0.456000</td>\n",
       "      <td>0.095</td>\n",
       "      <td>0.823000</td>\n",
       "      <td>0.093000</td>\n",
       "      <td>133.082993</td>\n",
       "      <td>...</td>\n",
       "      <td>0.069</td>\n",
       "      <td>0.547000</td>\n",
       "      <td>0.547000</td>\n",
       "      <td>0.010</td>\n",
       "      <td>1.126000</td>\n",
       "      <td>265.196991</td>\n",
       "      <td>0.047000</td>\n",
       "      <td>0.169000</td>\n",
       "      <td>0.169000</td>\n",
       "      <td>0.513000</td>\n",
       "    </tr>\n",
       "    <tr>\n",
       "      <th>TTTGTCAGTGCAGACA-2</th>\n",
       "      <td>0.229</td>\n",
       "      <td>0.204</td>\n",
       "      <td>0.001</td>\n",
       "      <td>0.001</td>\n",
       "      <td>0.179</td>\n",
       "      <td>67.634003</td>\n",
       "      <td>0.181</td>\n",
       "      <td>67.844002</td>\n",
       "      <td>67.658997</td>\n",
       "      <td>67.987999</td>\n",
       "      <td>...</td>\n",
       "      <td>0.174</td>\n",
       "      <td>0.541000</td>\n",
       "      <td>0.541000</td>\n",
       "      <td>0.002</td>\n",
       "      <td>812.604004</td>\n",
       "      <td>269.032013</td>\n",
       "      <td>68.264999</td>\n",
       "      <td>67.417999</td>\n",
       "      <td>67.417999</td>\n",
       "      <td>1.034000</td>\n",
       "    </tr>\n",
       "    <tr>\n",
       "      <th>TTTGTCAGTGGTTTCA-2</th>\n",
       "      <td>0.192</td>\n",
       "      <td>0.195</td>\n",
       "      <td>0.001</td>\n",
       "      <td>0.001</td>\n",
       "      <td>46.167</td>\n",
       "      <td>46.535999</td>\n",
       "      <td>0.145</td>\n",
       "      <td>46.847000</td>\n",
       "      <td>46.882999</td>\n",
       "      <td>46.537998</td>\n",
       "      <td>...</td>\n",
       "      <td>0.324</td>\n",
       "      <td>278.678009</td>\n",
       "      <td>278.678009</td>\n",
       "      <td>0.002</td>\n",
       "      <td>929.687012</td>\n",
       "      <td>276.927979</td>\n",
       "      <td>510.545013</td>\n",
       "      <td>92.412003</td>\n",
       "      <td>92.412003</td>\n",
       "      <td>93.186996</td>\n",
       "    </tr>\n",
       "    <tr>\n",
       "      <th>TTTGTCAGTTCCCGAG-2</th>\n",
       "      <td>0.229</td>\n",
       "      <td>0.196</td>\n",
       "      <td>0.001</td>\n",
       "      <td>0.001</td>\n",
       "      <td>0.179</td>\n",
       "      <td>0.717000</td>\n",
       "      <td>0.173</td>\n",
       "      <td>184.591995</td>\n",
       "      <td>92.652000</td>\n",
       "      <td>0.911000</td>\n",
       "      <td>...</td>\n",
       "      <td>0.064</td>\n",
       "      <td>185.943008</td>\n",
       "      <td>185.943008</td>\n",
       "      <td>0.003</td>\n",
       "      <td>742.775024</td>\n",
       "      <td>92.754997</td>\n",
       "      <td>648.330017</td>\n",
       "      <td>0.435000</td>\n",
       "      <td>0.435000</td>\n",
       "      <td>1.535000</td>\n",
       "    </tr>\n",
       "    <tr>\n",
       "      <th>TTTGTCATCCTAAGTG-2</th>\n",
       "      <td>0.220</td>\n",
       "      <td>0.115</td>\n",
       "      <td>0.001</td>\n",
       "      <td>0.001</td>\n",
       "      <td>0.179</td>\n",
       "      <td>90.245995</td>\n",
       "      <td>0.156</td>\n",
       "      <td>90.780998</td>\n",
       "      <td>90.662003</td>\n",
       "      <td>1.009000</td>\n",
       "      <td>...</td>\n",
       "      <td>0.070</td>\n",
       "      <td>272.623993</td>\n",
       "      <td>272.623993</td>\n",
       "      <td>0.004</td>\n",
       "      <td>636.265991</td>\n",
       "      <td>0.621000</td>\n",
       "      <td>0.199000</td>\n",
       "      <td>0.347000</td>\n",
       "      <td>0.347000</td>\n",
       "      <td>1.582000</td>\n",
       "    </tr>\n",
       "  </tbody>\n",
       "</table>\n",
       "<p>5957 rows × 327 columns</p>\n",
       "</div>"
      ],
      "text/plain": [
       "REACTIONS           AACOAT  r0450  SACCD3m  r0525  ACCOAC    ACOAD9m  \\\n",
       "AAACCTGGTTGATTCG-1   0.088  0.036    0.001  0.001   0.179   0.229000   \n",
       "AAAGATGAGAGGTACC-1   0.090  0.035    0.001  0.001   0.179   0.255000   \n",
       "AAAGATGGTACTTGAC-1   0.087  0.036    0.001  0.001   0.179  82.450996   \n",
       "AAAGCAAGTGGCAAAC-1   0.093  0.038    0.001  0.001   0.179   0.243000   \n",
       "AAAGTAGAGGGTATCG-1   0.089  0.043    0.001  0.001   0.179   0.258000   \n",
       "...                    ...    ...      ...    ...     ...        ...   \n",
       "TTTGTCAGTCGGCTCA-2   0.134  0.092    0.001  0.001   0.179   0.456000   \n",
       "TTTGTCAGTGCAGACA-2   0.229  0.204    0.001  0.001   0.179  67.634003   \n",
       "TTTGTCAGTGGTTTCA-2   0.192  0.195    0.001  0.001  46.167  46.535999   \n",
       "TTTGTCAGTTCCCGAG-2   0.229  0.196    0.001  0.001   0.179   0.717000   \n",
       "TTTGTCATCCTAAGTG-2   0.220  0.115    0.001  0.001   0.179  90.245995   \n",
       "\n",
       "REACTIONS           betaOxidation     ACACT1m    ACACT1r       ACITL  ...  \\\n",
       "AAACCTGGTTGATTCG-1          0.049   81.669998   0.048000   81.518997  ...   \n",
       "AAAGATGAGAGGTACC-1          0.075    0.823000   0.040000   94.082001  ...   \n",
       "AAAGATGGTACTTGAC-1          0.090  165.283005   0.089000    0.132000  ...   \n",
       "AAAGCAAGTGGCAAAC-1          0.063    0.823000   0.046000    0.082000  ...   \n",
       "AAAGTAGAGGGTATCG-1          0.078  106.967003   0.050000    0.073000  ...   \n",
       "...                           ...         ...        ...         ...  ...   \n",
       "TTTGTCAGTCGGCTCA-2          0.095    0.823000   0.093000  133.082993  ...   \n",
       "TTTGTCAGTGCAGACA-2          0.181   67.844002  67.658997   67.987999  ...   \n",
       "TTTGTCAGTGGTTTCA-2          0.145   46.847000  46.882999   46.537998  ...   \n",
       "TTTGTCAGTTCCCGAG-2          0.173  184.591995  92.652000    0.911000  ...   \n",
       "TTTGTCATCCTAAGTG-2          0.156   90.780998  90.662003    1.009000  ...   \n",
       "\n",
       "REACTIONS           TMDK1        TKT1        TKT2  TMLYSOX         TPI  \\\n",
       "AAACCTGGTTGATTCG-1  0.084  570.354004  570.354004    0.055  245.470993   \n",
       "AAAGATGAGAGGTACC-1  0.072  378.551025  378.551025    0.038  283.570007   \n",
       "AAAGATGGTACTTGAC-1  0.071  333.498016  333.498016    0.157  664.119019   \n",
       "AAAGCAAGTGGCAAAC-1  0.059    0.530000    0.530000    0.048  215.223999   \n",
       "AAAGTAGAGGGTATCG-1  0.148  644.020996  644.020996    0.051  535.953979   \n",
       "...                   ...         ...         ...      ...         ...   \n",
       "TTTGTCAGTCGGCTCA-2  0.069    0.547000    0.547000    0.010    1.126000   \n",
       "TTTGTCAGTGCAGACA-2  0.174    0.541000    0.541000    0.002  812.604004   \n",
       "TTTGTCAGTGGTTTCA-2  0.324  278.678009  278.678009    0.002  929.687012   \n",
       "TTTGTCAGTTCCCGAG-2  0.064  185.943008  185.943008    0.003  742.775024   \n",
       "TTTGTCATCCTAAGTG-2  0.070  272.623993  272.623993    0.004  636.265991   \n",
       "\n",
       "REACTIONS           CystineReductaseNADPH        TMDS      OMPDC       ORPT  \\\n",
       "AAACCTGGTTGATTCG-1             161.824005    0.005000  80.950996  80.950996   \n",
       "AAAGATGAGAGGTACC-1               0.201000    0.004000   0.110000   0.110000   \n",
       "AAAGATGGTACTTGAC-1              82.397003    0.005000   0.094000   0.094000   \n",
       "AAAGCAAGTGGCAAAC-1               0.212000    0.008000   0.124000   0.124000   \n",
       "AAAGTAGAGGGTATCG-1               0.218000    0.004000   0.096000   0.096000   \n",
       "...                                   ...         ...        ...        ...   \n",
       "TTTGTCAGTCGGCTCA-2             265.196991    0.047000   0.169000   0.169000   \n",
       "TTTGTCAGTGCAGACA-2             269.032013   68.264999  67.417999  67.417999   \n",
       "TTTGTCAGTGGTTTCA-2             276.927979  510.545013  92.412003  92.412003   \n",
       "TTTGTCAGTTCCCGAG-2              92.754997  648.330017   0.435000   0.435000   \n",
       "TTTGTCATCCTAAGTG-2               0.621000    0.199000   0.347000   0.347000   \n",
       "\n",
       "REACTIONS           CYOR_u10mi  \n",
       "AAACCTGGTTGATTCG-1    0.693000  \n",
       "AAAGATGAGAGGTACC-1    0.503000  \n",
       "AAAGATGGTACTTGAC-1    0.807000  \n",
       "AAAGCAAGTGGCAAAC-1    0.590000  \n",
       "AAAGTAGAGGGTATCG-1    0.376000  \n",
       "...                        ...  \n",
       "TTTGTCAGTCGGCTCA-2    0.513000  \n",
       "TTTGTCAGTGCAGACA-2    1.034000  \n",
       "TTTGTCAGTGGTTTCA-2   93.186996  \n",
       "TTTGTCAGTTCCCGAG-2    1.535000  \n",
       "TTTGTCATCCTAAGTG-2    1.582000  \n",
       "\n",
       "[5957 rows x 327 columns]"
      ]
     },
     "execution_count": 16,
     "metadata": {},
     "output_type": "execute_result"
    }
   ],
   "source": [
    "adatasets_ras_saver_counts[2].to_df()"
   ]
  },
  {
   "cell_type": "markdown",
   "id": "21d8918e",
   "metadata": {},
   "source": [
    "## Distribution of zero RAS values"
   ]
  },
  {
   "cell_type": "markdown",
   "id": "435a829c",
   "metadata": {},
   "source": [
    "First, analyze the zero RAS values without any denoising"
   ]
  },
  {
   "cell_type": "markdown",
   "id": "750e8483",
   "metadata": {},
   "source": [
    "Show percentage of zero RAS values"
   ]
  },
  {
   "cell_type": "code",
   "execution_count": 17,
   "id": "ad761dfa",
   "metadata": {
    "scrolled": false
   },
   "outputs": [
    {
     "data": {
      "image/png": "[encoded data removed]",
      "text/plain": [
       "<Figure size 538.128x288 with 1 Axes>"
      ]
     },
     "metadata": {
      "needs_background": "light"
     },
     "output_type": "display_data"
    },
    {
     "data": {
      "image/png": "[encoded data removed]",
      "text/plain": [
       "<Figure size 538.128x288 with 1 Axes>"
      ]
     },
     "metadata": {
      "needs_background": "light"
     },
     "output_type": "display_data"
    },
    {
     "data": {
      "image/png": "[encoded data removed]",
      "text/plain": [
       "<Figure size 538.128x288 with 1 Axes>"
      ]
     },
     "metadata": {
      "needs_background": "light"
     },
     "output_type": "display_data"
    }
   ],
   "source": [
    "plot_distributions(adatasets_ras)"
   ]
  },
  {
   "cell_type": "markdown",
   "id": "8d809dc2",
   "metadata": {},
   "source": [
    "Analyze correlation between RAS values, without denoising"
   ]
  },
  {
   "cell_type": "code",
   "execution_count": 18,
   "id": "3e1fb409",
   "metadata": {},
   "outputs": [
    {
     "data": {
      "image/png": "[encoded data removed]",
      "text/plain": [
       "<Figure size 432x288 with 1 Axes>"
      ]
     },
     "metadata": {
      "needs_background": "light"
     },
     "output_type": "display_data"
    },
    {
     "data": {
      "image/png": "[encoded data removed]",
      "text/plain": [
       "<Figure size 432x288 with 1 Axes>"
      ]
     },
     "metadata": {
      "needs_background": "light"
     },
     "output_type": "display_data"
    },
    {
     "data": {
      "image/png": "[encoded data removed]",
      "text/plain": [
       "<Figure size 432x288 with 1 Axes>"
      ]
     },
     "metadata": {
      "needs_background": "light"
     },
     "output_type": "display_data"
    }
   ],
   "source": [
    "plot_correlations(adatasets_ras)"
   ]
  },
  {
   "cell_type": "markdown",
   "id": "4c540211",
   "metadata": {},
   "source": [
    "Analyze correlation between a pair of reactions"
   ]
  },
  {
   "cell_type": "code",
   "execution_count": 19,
   "id": "0993cf65",
   "metadata": {},
   "outputs": [
    {
     "data": {
      "image/png": "[encoded data removed]",
      "text/plain": [
       "<Figure size 432x288 with 1 Axes>"
      ]
     },
     "metadata": {
      "needs_background": "light"
     },
     "output_type": "display_data"
    },
    {
     "data": {
      "image/png": "[encoded data removed]",
      "text/plain": [
       "<Figure size 432x288 with 1 Axes>"
      ]
     },
     "metadata": {
      "needs_background": "light"
     },
     "output_type": "display_data"
    },
    {
     "data": {
      "image/png": "[encoded data removed]",
      "text/plain": [
       "<Figure size 432x288 with 1 Axes>"
      ]
     },
     "metadata": {
      "needs_background": "light"
     },
     "output_type": "display_data"
    }
   ],
   "source": [
    "plot_two_reaction_correlation(adatasets_ras,[\"LDH_L\",\"DmLact\"])"
   ]
  },
  {
   "cell_type": "markdown",
   "id": "7831ef80",
   "metadata": {},
   "source": [
    "## Analysis on denoised RAS matrix"
   ]
  },
  {
   "cell_type": "markdown",
   "id": "380ec50d",
   "metadata": {},
   "source": [
    "Analyze correlation between denoised RAS values"
   ]
  },
  {
   "cell_type": "code",
   "execution_count": null,
   "id": "755e85c8",
   "metadata": {},
   "outputs": [],
   "source": [
    "plot_correlations(adatasets_ras_magic_counts)"
   ]
  },
  {
   "cell_type": "code",
   "execution_count": null,
   "id": "71e4eadf",
   "metadata": {},
   "outputs": [],
   "source": [
    "plot_correlations(adatasets_ras_enhance_counts)"
   ]
  },
  {
   "cell_type": "code",
   "execution_count": null,
   "id": "71d5a6b6",
   "metadata": {},
   "outputs": [],
   "source": [
    "plot_correlations(adatasets_ras_saver_counts)"
   ]
  },
  {
   "cell_type": "code",
   "execution_count": null,
   "id": "62c8d6dd",
   "metadata": {},
   "outputs": [],
   "source": [
    "plot_two_reaction_correlation(adatasets_ras_magic_counts,[\"LDH_L\",\"DmLact\"])"
   ]
  }
 ],
 "metadata": {
  "kernelspec": {
   "display_name": "Python 3 (ipykernel)",
   "language": "python",
   "name": "python3"
  },
  "language_info": {
   "codemirror_mode": {
    "name": "ipython",
    "version": 3
   },
   "file_extension": ".py",
   "mimetype": "text/x-python",
   "name": "python",
   "nbconvert_exporter": "python",
   "pygments_lexer": "ipython3",
   "version": "3.9.12"
  }
 },
 "nbformat": 4,
 "nbformat_minor": 5
}
