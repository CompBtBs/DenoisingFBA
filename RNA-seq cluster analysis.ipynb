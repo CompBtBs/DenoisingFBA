{
 "cells": [
  {
   "cell_type": "code",
   "execution_count": null,
   "id": "fbd2457a",
   "metadata": {},
   "outputs": [],
   "source": [
    "import pandas as pd\n",
    "import numpy as np\n",
    "from scanpy import AnnData\n",
    "import scanpy as sc\n",
    "import cobra as cb\n",
    "import numpy as np\n",
    "import time\n",
    "import sys\n",
    "import matplotlib.pyplot as plt\n",
    "import numpy as np\n",
    "import os\n",
    "from utils import find_bh"
   ]
  },
  {
   "cell_type": "code",
   "execution_count": null,
   "id": "e21fdc41",
   "metadata": {},
   "outputs": [],
   "source": [
    "npcs=[5,10,15,20]\n",
    "neigh=[5,10,15,20]\n",
    "letters=[\"A\",\"B\",\"C\"]\n",
    "titles=[\"GSE110949\",\"E-GEOD-86618\",\"GSE118056\"]"
   ]
  },
  {
   "cell_type": "code",
   "execution_count": null,
   "id": "1ca1a969",
   "metadata": {},
   "outputs": [],
   "source": [
    "fig,axes=plt.subplots(3,3,figsize= (20,14))\n",
    "axes=axes.ravel()"
   ]
  },
  {
   "cell_type": "code",
   "execution_count": null,
   "id": "5e9c15bd",
   "metadata": {},
   "outputs": [],
   "source": [
    "\n",
    "j=0\n",
    "for file_input in titles:\n",
    "    for apply_denoising in [True,False]:\n",
    "    \n",
    "        adata=sc.read_h5ad(\"outputs/readcounts/dataset\"+file_input+\"_nodenoise\")\n",
    "\n",
    "        if apply_denoising:\n",
    "            sc.external.pp.magic(adata,random_state=0)   \n",
    "\n",
    "        sc.pp.log1p(adata)\n",
    "        sc.pp.scale(adata)\n",
    "\n",
    "        if file_input==\"E-GEOD-86618\":\n",
    "            cell_cycle_genes = [x.strip() for x in open('data/cellcycle_genes_ensg.txt')]\n",
    "        else:\n",
    "            cell_cycle_genes = [x.strip() for x in open('data/cellcycle_genes_genesymbol.txt')]\n",
    "        s_genes = cell_cycle_genes[:43]\n",
    "        g2m_genes = cell_cycle_genes[43:]\n",
    "        cell_cycle_genes = [x for x in cell_cycle_genes if x in adata.var_names]\n",
    "\n",
    "        s_genes = [x for x in s_genes if x in adata.var_names]\n",
    "        g2m_genes = [x for x in g2m_genes if x in adata.var_names]\n",
    "\n",
    "\n",
    "        sc.tl.score_genes_cell_cycle(adata, s_genes=s_genes, g2m_genes=g2m_genes)\n",
    "\n",
    "        sc.tl.pca(adata, svd_solver='arpack')\n",
    "        df=find_bh(adata,n_pcs=npcs,n_neighbors=neigh)\n",
    "        el=df[\"cluster_values_sil\"].argmax()\n",
    "        df.iloc[el,:]\n",
    "        n_pcs=int(df.iloc[el][\"pcs_values\"])\n",
    "        neigh_values=int(df.iloc[el][\"neigh_values\"])\n",
    "        \n",
    "        sc.pp.neighbors(adata, n_neighbors=neigh_values ,n_pcs=n_pcs)\n",
    "        sc.tl.umap(adata,random_state=0)\n",
    "\n",
    "        if file_input==\"E-GEOD-86618\":\n",
    "            values=adata.obs['Factor Value[disease]'].values\n",
    "            values=[el if el==\"normal\" else \"IFP\" for el in values ]\n",
    "            adata.obs['Factor Value[disease]']=values\n",
    "            \n",
    "            if apply_denoising:\n",
    "                sc.pl.umap(adata, color=['Factor Value[disease]'],title=\"\",return_fig=False,show=False,ax=axes[j+6])  \n",
    "            else:\n",
    "                sc.pl.umap(adata, color=['Factor Value[disease]'],title=\"\",return_fig=False,show=False,ax=axes[j])  \n",
    "        else:\n",
    "            if apply_denoising:\n",
    "                sc.pl.umap(adata, color=['Type',],title=\"\",return_fig=False,show=False,ax=axes[j+6])\n",
    "            else:\n",
    "                sc.pl.umap(adata, color=['Type',],title=\"\",return_fig=False,show=False,ax=axes[j])\n",
    "                \n",
    "        if not apply_denoising:\n",
    "            sc.pl.umap(adata, color=['phase'],title=\"\",return_fig=False,show=False,ax=axes[j+3])\n",
    "\n",
    "    j=j+1      "
   ]
  },
  {
   "cell_type": "code",
   "execution_count": null,
   "id": "bc8fd784",
   "metadata": {},
   "outputs": [],
   "source": [
    "axes[0].annotate(letters[0], xy=(-0.1, 0.9), xycoords=\"axes fraction\",fontsize=30)\n",
    "axes[3].annotate(letters[1], xy=(-0.1, 0.9), xycoords=\"axes fraction\",fontsize=30)\n",
    "axes[6].annotate(letters[2], xy=(-0.1, 0.9), xycoords=\"axes fraction\",fontsize=30)\n",
    "axes[0].set_title(titles[0],fontsize=20)\n",
    "axes[1].set_title(titles[1],fontsize=20)\n",
    "axes[2].set_title(titles[2],fontsize=20)"
   ]
  },
  {
   "cell_type": "code",
   "execution_count": null,
   "id": "c1112bce",
   "metadata": {},
   "outputs": [],
   "source": [
    "#axes.reshape(-3,3)\n",
    "fig.tight_layout()\n",
    "plt.show()"
   ]
  },
  {
   "cell_type": "code",
   "execution_count": null,
   "id": "ffe9ae3b",
   "metadata": {},
   "outputs": [],
   "source": [
    "fig"
   ]
  },
  {
   "cell_type": "code",
   "execution_count": null,
   "id": "cee93dec",
   "metadata": {},
   "outputs": [],
   "source": [
    "fig.savefig(\"images/readcounts.png\",dpi=300)"
   ]
  }
 ],
 "metadata": {
  "kernelspec": {
   "display_name": "Python 3 (ipykernel)",
   "language": "python",
   "name": "python3"
  },
  "language_info": {
   "codemirror_mode": {
    "name": "ipython",
    "version": 3
   },
   "file_extension": ".py",
   "mimetype": "text/x-python",
   "name": "python",
   "nbconvert_exporter": "python",
   "pygments_lexer": "ipython3",
   "version": "3.9.12"
  }
 },
 "nbformat": 4,
 "nbformat_minor": 5
}
