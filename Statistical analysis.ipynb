{
 "cells": [
  {
   "cell_type": "markdown",
   "id": "96b23ed3",
   "metadata": {},
   "source": [
    "This notebook performs the statistical analysis about the readcounts matrix and the RAS(Reaction Activity  Scores) matrix."
   ]
  },
  {
   "cell_type": "code",
   "execution_count": null,
   "id": "1e54a0d7",
   "metadata": {},
   "outputs": [],
   "source": [
    "import pandas as pd\n",
    "import scanpy as sc\n",
    "import matplotlib.pyplot as plt"
   ]
  },
  {
   "cell_type": "code",
   "execution_count": null,
   "id": "1aac65cd",
   "metadata": {},
   "outputs": [],
   "source": [
    "from utils import plot_correlations\n",
    "from utils import plot_distributions\n",
    "from utils import plot_two_reaction_correlation\n",
    "from utils import table_sparsity,table_sparsity_denoised"
   ]
  },
  {
   "cell_type": "markdown",
   "id": "967bca69",
   "metadata": {},
   "source": [
    "## Load datatsets"
   ]
  },
  {
   "cell_type": "code",
   "execution_count": null,
   "id": "42d84b1d",
   "metadata": {},
   "outputs": [],
   "source": [
    "names_datasets=[\"datasetGSE110949\",\"datasetE-GEOD-86618\",\"datasetGSE118056\"]"
   ]
  },
  {
   "cell_type": "markdown",
   "id": "89213e4e",
   "metadata": {},
   "source": [
    "Load readcounts and RAS without any denoising"
   ]
  },
  {
   "cell_type": "code",
   "execution_count": null,
   "id": "9fcb5ea0",
   "metadata": {},
   "outputs": [],
   "source": [
    "adata1=sc.read_h5ad(\"outputs/readcounts/datasetGSE110949_nodenoise\")\n",
    "adata2=sc.read_h5ad(\"outputs/readcounts/datasetE-GEOD-86618_nodenoise\")\n",
    "adata3=sc.read_h5ad(\"outputs/readcounts/datasetGSE118056_nodenoise\")\n",
    "adatasets_counts=[adata1,adata2,adata3]"
   ]
  },
  {
   "cell_type": "code",
   "execution_count": null,
   "id": "e9776cf1",
   "metadata": {},
   "outputs": [],
   "source": [
    "adata1=sc.read_h5ad(\"outputs/ras/datasetGSE110949_nodenoise\")\n",
    "adata2=sc.read_h5ad(\"outputs/ras/datasetE-GEOD-86618_nodenoise\")\n",
    "adata3=sc.read_h5ad(\"outputs/ras/datasetGSE118056_nodenoise\")\n",
    "adatasets_ras=[adata1,adata2,adata3]"
   ]
  },
  {
   "cell_type": "markdown",
   "id": "5d7bc2d4",
   "metadata": {},
   "source": [
    "RAS values with denoising applied on the readcounts matrix"
   ]
  },
  {
   "cell_type": "code",
   "execution_count": null,
   "id": "e4b35f5c",
   "metadata": {},
   "outputs": [],
   "source": [
    "adata1=sc.read_h5ad(\"outputs/ras/datasetGSE110949_magic_counts\")\n",
    "adata2=sc.read_h5ad(\"outputs/ras/datasetE-GEOD-86618_magic_counts\")\n",
    "adata3=sc.read_h5ad(\"outputs/ras/datasetGSE118056_magic_counts\")\n",
    "adatasets_ras_magic_counts=[adata1,adata2,adata3]"
   ]
  },
  {
   "cell_type": "code",
   "execution_count": null,
   "id": "63b2c10b",
   "metadata": {},
   "outputs": [],
   "source": [
    "adata1=sc.read_h5ad(\"outputs/ras/datasetGSE110949_enhance_counts\")\n",
    "adata2=sc.read_h5ad(\"outputs/ras/datasetE-GEOD-86618_enhance_counts\")\n",
    "adata3=sc.read_h5ad(\"outputs/ras/datasetGSE118056_enhance_counts\")\n",
    "adatasets_ras_enhance_counts=[adata1,adata2,adata3]"
   ]
  },
  {
   "cell_type": "code",
   "execution_count": null,
   "id": "1d784867",
   "metadata": {},
   "outputs": [],
   "source": [
    "adata1=sc.read_h5ad(\"outputs/ras/datasetGSE110949_saver_counts\")\n",
    "adata2=sc.read_h5ad(\"outputs/ras/datasetE-GEOD-86618_saver_counts\")\n",
    "adata3=sc.read_h5ad(\"outputs/ras/datasetGSE118056_saver_counts\")\n",
    "adatasets_ras_saver_counts=[adata1,adata2,adata3]"
   ]
  },
  {
   "cell_type": "markdown",
   "id": "5a0aa78d",
   "metadata": {},
   "source": [
    "RAS values with denoising applied on the RAS matrix"
   ]
  },
  {
   "cell_type": "code",
   "execution_count": null,
   "id": "dd28f8bd",
   "metadata": {},
   "outputs": [],
   "source": [
    "adata1=sc.read_h5ad(\"outputs/ras/datasetGSE110949_magic_ras\")\n",
    "adata2=sc.read_h5ad(\"outputs/ras/datasetE-GEOD-86618_magic_ras\")\n",
    "adata3=sc.read_h5ad(\"outputs/ras/datasetGSE118056_magic_ras\")\n",
    "adatasets_ras_magic_ras=[adata1,adata2,adata3]"
   ]
  },
  {
   "cell_type": "code",
   "execution_count": null,
   "id": "77ad04c0",
   "metadata": {},
   "outputs": [],
   "source": [
    "adata1=sc.read_h5ad(\"outputs/ras/datasetGSE110949_enhance_ras\")\n",
    "adata2=sc.read_h5ad(\"outputs/ras/datasetE-GEOD-86618_enhance_ras\")\n",
    "adata3=sc.read_h5ad(\"outputs/ras/datasetGSE118056_enhance_ras\")\n",
    "adatasets_ras_enhance_ras=[adata1,adata2,adata3]"
   ]
  },
  {
   "cell_type": "code",
   "execution_count": null,
   "id": "780612ae",
   "metadata": {},
   "outputs": [],
   "source": [
    "adata1=sc.read_h5ad(\"outputs/ras/datasetGSE110949_saver_ras\")\n",
    "adata2=sc.read_h5ad(\"outputs/ras/datasetE-GEOD-86618_saver_ras\")\n",
    "adata3=sc.read_h5ad(\"outputs/ras/datasetGSE118056_saver_ras\")\n",
    "adatasets_ras_saver_ras=[adata1,adata2,adata3]"
   ]
  },
  {
   "cell_type": "code",
   "execution_count": null,
   "id": "1e0b5b50",
   "metadata": {},
   "outputs": [],
   "source": [
    "adatasets_ras_saver_counts[0].to_df()"
   ]
  },
  {
   "cell_type": "markdown",
   "id": "14c14a6d",
   "metadata": {},
   "source": [
    "## Level of sparsity of readcounts and RAS matrix"
   ]
  },
  {
   "cell_type": "markdown",
   "id": "326a6540",
   "metadata": {},
   "source": [
    "Table that summarizes the level of sparsity on readcounts matrix and ras matrix without any denoising"
   ]
  },
  {
   "cell_type": "code",
   "execution_count": null,
   "id": "861a35ac",
   "metadata": {},
   "outputs": [],
   "source": [
    "table_sparsity(adatasets_counts,adatasets_ras,names_datasets)"
   ]
  },
  {
   "cell_type": "markdown",
   "id": "6b34e74a",
   "metadata": {},
   "source": [
    "Table that summarizes the level of sparsity on ras matrix with any denoising applied on the readcount matrix"
   ]
  },
  {
   "cell_type": "code",
   "execution_count": null,
   "id": "b4a8e385",
   "metadata": {},
   "outputs": [],
   "source": [
    "table_sparsity_denoised(adatasets_ras_magic_counts,\n",
    "                        adatasets_ras_enhance_counts,\n",
    "                        adatasets_ras_saver_counts,\n",
    "                        names_datasets)"
   ]
  },
  {
   "cell_type": "markdown",
   "id": "92353b36",
   "metadata": {},
   "source": [
    "Table that summarizes the level of sparsity on ras matrix with any denoising applied on the ras matrix"
   ]
  },
  {
   "cell_type": "code",
   "execution_count": null,
   "id": "a14bc8c6",
   "metadata": {},
   "outputs": [],
   "source": [
    "table_sparsity_denoised(adatasets_ras_magic_ras,\n",
    "                        adatasets_ras_enhance_ras,\n",
    "                        adatasets_ras_saver_ras,\n",
    "                        names_datasets)"
   ]
  },
  {
   "cell_type": "code",
   "execution_count": null,
   "id": "ee637d03",
   "metadata": {},
   "outputs": [],
   "source": [
    "adatasets_ras_saver_counts[2].to_df()"
   ]
  },
  {
   "cell_type": "markdown",
   "id": "21d8918e",
   "metadata": {},
   "source": [
    "## Distribution of zero RAS values"
   ]
  },
  {
   "cell_type": "markdown",
   "id": "435a829c",
   "metadata": {},
   "source": [
    "First, analyze the zero RAS values without any denoising"
   ]
  },
  {
   "cell_type": "markdown",
   "id": "750e8483",
   "metadata": {},
   "source": [
    "Show percentage of zero RAS values"
   ]
  },
  {
   "cell_type": "code",
   "execution_count": null,
   "id": "ad761dfa",
   "metadata": {
    "scrolled": false
   },
   "outputs": [],
   "source": [
    "plot_distributions(adatasets_ras)"
   ]
  },
  {
   "cell_type": "markdown",
   "id": "8d809dc2",
   "metadata": {},
   "source": [
    "Analyze correlation between RAS values, without denoising"
   ]
  },
  {
   "cell_type": "code",
   "execution_count": null,
   "id": "3e1fb409",
   "metadata": {},
   "outputs": [],
   "source": [
    "plot_correlations(adatasets_ras)"
   ]
  },
  {
   "cell_type": "markdown",
   "id": "4c540211",
   "metadata": {},
   "source": [
    "Analyze correlation between a pair of reactions"
   ]
  },
  {
   "cell_type": "code",
   "execution_count": null,
   "id": "0993cf65",
   "metadata": {},
   "outputs": [],
   "source": [
    "plot_two_reaction_correlation(adatasets_ras,[\"LDH_L\",\"DmLact\"])"
   ]
  },
  {
   "cell_type": "markdown",
   "id": "7831ef80",
   "metadata": {},
   "source": [
    "## Analysis on denoised RAS matrix"
   ]
  },
  {
   "cell_type": "markdown",
   "id": "380ec50d",
   "metadata": {},
   "source": [
    "Analyze correlation between denoised RAS values"
   ]
  },
  {
   "cell_type": "code",
   "execution_count": null,
   "id": "755e85c8",
   "metadata": {},
   "outputs": [],
   "source": [
    "plot_correlations(adatasets_ras_magic_counts)"
   ]
  },
  {
   "cell_type": "code",
   "execution_count": null,
   "id": "71e4eadf",
   "metadata": {},
   "outputs": [],
   "source": [
    "plot_correlations(adatasets_ras_enhance_counts)"
   ]
  },
  {
   "cell_type": "code",
   "execution_count": null,
   "id": "71d5a6b6",
   "metadata": {},
   "outputs": [],
   "source": [
    "plot_correlations(adatasets_ras_saver_counts)"
   ]
  },
  {
   "cell_type": "code",
   "execution_count": null,
   "id": "62c8d6dd",
   "metadata": {},
   "outputs": [],
   "source": [
    "plot_two_reaction_correlation(adatasets_ras_magic_counts,[\"LDH_L\",\"DmLact\"])"
   ]
  }
 ],
 "metadata": {
  "kernelspec": {
   "display_name": "Python 3 (ipykernel)",
   "language": "python",
   "name": "python3"
  },
  "language_info": {
   "codemirror_mode": {
    "name": "ipython",
    "version": 3
   },
   "file_extension": ".py",
   "mimetype": "text/x-python",
   "name": "python",
   "nbconvert_exporter": "python",
   "pygments_lexer": "ipython3",
   "version": "3.9.12"
  }
 },
 "nbformat": 4,
 "nbformat_minor": 5
}
