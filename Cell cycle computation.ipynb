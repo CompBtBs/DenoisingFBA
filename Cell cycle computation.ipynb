{
 "cells": [
  {
   "cell_type": "markdown",
   "id": "4bad606f",
   "metadata": {},
   "source": [
    "This notebook is for cell-cycle computation using the readcounts matrix and a set of genes which result markers for a specific cell cycle phase"
   ]
  },
  {
   "cell_type": "code",
   "execution_count": null,
   "id": "2431dd7e",
   "metadata": {},
   "outputs": [],
   "source": [
    "import pandas as pd\n",
    "import numpy as np\n",
    "from scanpy import AnnData\n",
    "import scanpy as sc\n",
    "import cobra as cb\n",
    "import numpy as np\n",
    "import time\n",
    "import sys\n",
    "import matplotlib.pyplot as plt\n",
    "import numpy as np\n",
    "import os"
   ]
  },
  {
   "cell_type": "markdown",
   "id": "a5862ae3",
   "metadata": {},
   "source": [
    "Set name of then dataset"
   ]
  },
  {
   "cell_type": "code",
   "execution_count": null,
   "id": "b14df9fc",
   "metadata": {},
   "outputs": [],
   "source": [
    "#file_input=\"datasetGSE110949\"\n",
    "#file_input=\"datasetE-GEOD-86618\"\n",
    "file_input=\"datasetGSE118056\""
   ]
  },
  {
   "cell_type": "markdown",
   "id": "845d0558",
   "metadata": {},
   "source": [
    "Load the read counts matrix (TPM)"
   ]
  },
  {
   "cell_type": "code",
   "execution_count": null,
   "id": "539d4be5",
   "metadata": {},
   "outputs": [],
   "source": [
    "adata=sc.read_h5ad(\"outputs/readcounts/\"+file_input+\"_nodenoise\")"
   ]
  },
  {
   "cell_type": "code",
   "execution_count": null,
   "id": "a6181d6c",
   "metadata": {},
   "outputs": [],
   "source": [
    "sc.pp.log1p(adata)"
   ]
  },
  {
   "cell_type": "code",
   "execution_count": null,
   "id": "aa840d80",
   "metadata": {},
   "outputs": [],
   "source": [
    "adata.raw=adata"
   ]
  },
  {
   "cell_type": "code",
   "execution_count": null,
   "id": "d65a352d",
   "metadata": {},
   "outputs": [],
   "source": [
    "sc.pp.scale(adata)"
   ]
  },
  {
   "cell_type": "markdown",
   "id": "355ad880",
   "metadata": {},
   "source": [
    "Info sul cell cycle"
   ]
  },
  {
   "cell_type": "code",
   "execution_count": null,
   "id": "5794c242",
   "metadata": {},
   "outputs": [],
   "source": [
    "if file_input==\"datasetE-GEOD-86618\":\n",
    "    cell_cycle_genes = [x.strip() for x in open('data/cellcycle_genes_ensg.txt')]\n",
    "else:\n",
    "    cell_cycle_genes = [x.strip() for x in open('data/cellcycle_genes_genesymbol.txt')]\n",
    "s_genes = cell_cycle_genes[:43]\n",
    "g2m_genes = cell_cycle_genes[43:]\n",
    "cell_cycle_genes = [x for x in cell_cycle_genes if x in adata.var_names]"
   ]
  },
  {
   "cell_type": "markdown",
   "id": "3a203c96",
   "metadata": {},
   "source": [
    "Filter genes which are in the dataset only"
   ]
  },
  {
   "cell_type": "code",
   "execution_count": null,
   "id": "3e3e5957",
   "metadata": {},
   "outputs": [],
   "source": [
    "s_genes = [x for x in s_genes if x in adata.var_names]\n",
    "g2m_genes = [x for x in g2m_genes if x in adata.var_names]"
   ]
  },
  {
   "cell_type": "markdown",
   "id": "3e421d59",
   "metadata": {},
   "source": [
    "Compute cell cycle scores"
   ]
  },
  {
   "cell_type": "code",
   "execution_count": null,
   "id": "7bec25a9",
   "metadata": {},
   "outputs": [],
   "source": [
    "sc.tl.score_genes_cell_cycle(adata, s_genes=s_genes, g2m_genes=g2m_genes)"
   ]
  },
  {
   "cell_type": "markdown",
   "id": "06b919ae",
   "metadata": {},
   "source": [
    "Cell cycle phase is stored in adata.obs[\"phase\"]"
   ]
  },
  {
   "cell_type": "markdown",
   "id": "72a5b937",
   "metadata": {},
   "source": [
    "Save results"
   ]
  },
  {
   "cell_type": "code",
   "execution_count": null,
   "id": "42d28812",
   "metadata": {},
   "outputs": [],
   "source": [
    "adata.obs[[\"phase\",\"S_score\",\"G2M_score\"]].to_csv(\"outputs/cell_cycle_information/\"+file_input+\"cell_cycle_phases.csv\")"
   ]
  },
  {
   "cell_type": "code",
   "execution_count": null,
   "id": "fad5adc8",
   "metadata": {},
   "outputs": [],
   "source": []
  }
 ],
 "metadata": {
  "kernelspec": {
   "display_name": "Python 3 (ipykernel)",
   "language": "python",
   "name": "python3"
  },
  "language_info": {
   "codemirror_mode": {
    "name": "ipython",
    "version": 3
   },
   "file_extension": ".py",
   "mimetype": "text/x-python",
   "name": "python",
   "nbconvert_exporter": "python",
   "pygments_lexer": "ipython3",
   "version": "3.9.12"
  }
 },
 "nbformat": 4,
 "nbformat_minor": 5
}
