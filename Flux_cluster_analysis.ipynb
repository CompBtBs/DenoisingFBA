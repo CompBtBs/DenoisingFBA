{
 "cells": [
  {
   "cell_type": "code",
   "execution_count": null,
   "id": "8b77edcc",
   "metadata": {},
   "outputs": [],
   "source": [
    "import pandas as pd\n",
    "import numpy as np\n",
    "import scanpy as sc\n",
    "import matplotlib.pyplot as plt\n",
    "from utils import find_bh"
   ]
  },
  {
   "cell_type": "code",
   "execution_count": null,
   "id": "3597e912",
   "metadata": {},
   "outputs": [],
   "source": [
    "plt.rcParams.update({'font.size': 30})"
   ]
  },
  {
   "cell_type": "code",
   "execution_count": null,
   "id": "a4b7c34f",
   "metadata": {},
   "outputs": [],
   "source": [
    "npcs=[5,10,15,20]\n",
    "neigh=[5,10,15,20]\n",
    "letters=[\"e-strategy\",\"MAGIC\",\"ENHANCE\",\"SAVER\"]\n",
    "titles=[\"GSE110949\",\"E-GEOD-86618\",\"GSE118056\"]"
   ]
  },
  {
   "cell_type": "code",
   "execution_count": null,
   "id": "43984d78",
   "metadata": {},
   "outputs": [],
   "source": [
    "fig_prior,axes_prior=plt.subplots(4,3,figsize= (30,25))\n",
    "axes_prior=axes_prior.ravel()\n",
    "\n",
    "fig_cellcyle,axes_cellcycle=plt.subplots(4,3,figsize= (30,25))\n",
    "axes_cellcycle=axes_cellcycle.ravel()"
   ]
  },
  {
   "cell_type": "code",
   "execution_count": null,
   "id": "189db5b1",
   "metadata": {},
   "outputs": [],
   "source": [
    "## Flux Cluster Analysis\n",
    "j=0\n",
    "k=0\n",
    "for strategy in [\"epsilon\",\"magic_counts\",\"enhance_counts\",\"saver_counts\"]:\n",
    "    k=0\n",
    "    for file_input in [\"datasetGSE110949\",\"datasetE-GEOD-86618\",\"datasetGSE118056\"]:\n",
    "        \n",
    "        if file_input==\"datasetE-GEOD-86618\":\n",
    "            filter_biomass=False\n",
    "        else:\n",
    "            filter_biomass=True\n",
    "            \n",
    "        flux_adata=sc.read_h5ad(\"outputs/fluxes/\"+file_input+\"_\"+strategy)\n",
    "        \n",
    "        if strategy==\"saver_counts\":\n",
    "            flux_adata_help=sc.read_h5ad(\"outputs/fluxes/\"+file_input+\"_epsilon\")\n",
    "            flux_adata.obs=flux_adata_help.obs.copy()\n",
    "\n",
    "        dfPhase=pd.read_csv(\"outputs/cell_cycle_information/\"+file_input+\"cell_cycle_phases.csv\",index_col=0)\n",
    "        flux_adata.obs[\"phase\"]=dfPhase[\"phase\"]\n",
    "\n",
    "\n",
    "        if filter_biomass:\n",
    "            index=flux_adata.to_df().loc[flux_adata.to_df()[\"Biomass\"]>0].index\n",
    "            flux_adata=flux_adata[index,:]\n",
    "        flux_adata\n",
    "\n",
    "\n",
    "        #sc.pp.filter_genes(flux_adata,min_cells=1)\n",
    "        sc.pp.scale(flux_adata)\n",
    "        sc.tl.pca(flux_adata, svd_solver='arpack')\n",
    "\n",
    "        df=find_bh(flux_adata,n_pcs=npcs,n_neighbors=neigh)\n",
    "        el=df[\"cluster_values_sil\"].argmax()\n",
    "        n_pcs=int(df.iloc[el][\"pcs_values\"])\n",
    "        neigh_values=int(df.iloc[el][\"neigh_values\"])\n",
    "\n",
    "\n",
    "        sc.pp.neighbors(flux_adata, n_neighbors=neigh_values ,n_pcs=n_pcs)\n",
    "        sc.tl.umap(flux_adata,random_state=0)#,init_pos=\"paga\")#,n_components=3)\n",
    "        if file_input==\"datasetE-GEOD-86618\":\n",
    "            values=flux_adata.obs['countmatrix_Factor Value[disease]'].values\n",
    "            values=[el if el==\"normal\" else \"IFP\" for el in values ]\n",
    "            flux_adata.obs['countmatrix_Factor Value[disease]']=values\n",
    "            sc.pl.umap(flux_adata,color=['countmatrix_Factor Value[disease]'],title=\"\",return_fig=False,ax=axes_prior[j*3+k])\n",
    "        else:\n",
    "            sc.pl.umap(flux_adata, color=['countmatrix_Type'],title=\"\",return_fig=False,ax=axes_prior[j*3+k])\n",
    "\n",
    "        sc.pl.umap(flux_adata, color=['phase'],title=\"\",return_fig=False,ax=axes_cellcycle[j*3+k])\n",
    "        k=k+1\n",
    "    j=j+1"
   ]
  },
  {
   "cell_type": "code",
   "execution_count": null,
   "id": "f2ffc5f2",
   "metadata": {},
   "outputs": [],
   "source": [
    "axes_prior[0].annotate(letters[0], xy=(-0.7, 0.5), xycoords=\"axes fraction\",fontsize=30)\n",
    "axes_prior[3].annotate(letters[1], xy=(-0.7, 0.5), xycoords=\"axes fraction\",fontsize=30)\n",
    "axes_prior[6].annotate(letters[2], xy=(-0.7, 0.5), xycoords=\"axes fraction\",fontsize=30)\n",
    "axes_prior[9].annotate(letters[3], xy=(-0.7, 0.5), xycoords=\"axes fraction\",fontsize=30)\n",
    "\n",
    "\n"
   ]
  },
  {
   "cell_type": "code",
   "execution_count": null,
   "id": "a431ccfa",
   "metadata": {},
   "outputs": [],
   "source": [
    "axes_prior[0].set_title(titles[0],fontsize=30)\n",
    "axes_prior[1].set_title(titles[1],fontsize=30)\n",
    "axes_prior[2].set_title(titles[2],fontsize=30)"
   ]
  },
  {
   "cell_type": "code",
   "execution_count": null,
   "id": "e7ad64c0",
   "metadata": {},
   "outputs": [],
   "source": [
    "axes_cellcycle[0].annotate(letters[0], xy=(-0.7, 0.5), xycoords=\"axes fraction\",fontsize=30)\n",
    "axes_cellcycle[3].annotate(letters[1], xy=(-0.7, 0.5), xycoords=\"axes fraction\",fontsize=30)\n",
    "axes_cellcycle[6].annotate(letters[2], xy=(-0.7, 0.5), xycoords=\"axes fraction\",fontsize=30)\n",
    "axes_cellcycle[9].annotate(letters[3], xy=(-0.7, 0.5), xycoords=\"axes fraction\",fontsize=30)\n",
    "\n"
   ]
  },
  {
   "cell_type": "code",
   "execution_count": null,
   "id": "c70744d6",
   "metadata": {},
   "outputs": [],
   "source": [
    "axes_cellcycle[0].set_title(titles[0],fontsize=30)\n",
    "axes_cellcycle[1].set_title(titles[1],fontsize=30)\n",
    "axes_cellcycle[2].set_title(titles[2],fontsize=30)"
   ]
  },
  {
   "cell_type": "code",
   "execution_count": null,
   "id": "c1112bce",
   "metadata": {},
   "outputs": [],
   "source": [
    "fig_prior.tight_layout()\n",
    "plt.show()\n",
    "fig_prior"
   ]
  },
  {
   "cell_type": "code",
   "execution_count": null,
   "id": "e820afb4",
   "metadata": {},
   "outputs": [],
   "source": [
    "fig_cellcyle.tight_layout()\n",
    "plt.show()\n",
    "fig_cellcyle"
   ]
  },
  {
   "cell_type": "code",
   "execution_count": null,
   "id": "d0c709bd",
   "metadata": {},
   "outputs": [],
   "source": [
    "fig_prior.savefig(\"images/flux_prior.png\",dpi=300)\n",
    "fig_cellcyle.savefig(\"images/flux_cellcycle.png\",dpi=300)"
   ]
  },
  {
   "cell_type": "code",
   "execution_count": null,
   "id": "3d9719ab",
   "metadata": {},
   "outputs": [],
   "source": [
    "fig_prior.savefig(\"images/flux_prior.png\",dpi=300)\n",
    "fig_cellcyle.savefig(\"images/flux_cellcycle.png\",dpi=300)"
   ]
  }
 ],
 "metadata": {
  "kernelspec": {
   "display_name": "Python 3 (ipykernel)",
   "language": "python",
   "name": "python3"
  },
  "language_info": {
   "codemirror_mode": {
    "name": "ipython",
    "version": 3
   },
   "file_extension": ".py",
   "mimetype": "text/x-python",
   "name": "python",
   "nbconvert_exporter": "python",
   "pygments_lexer": "ipython3",
   "version": "3.9.12"
  }
 },
 "nbformat": 4,
 "nbformat_minor": 5
}
