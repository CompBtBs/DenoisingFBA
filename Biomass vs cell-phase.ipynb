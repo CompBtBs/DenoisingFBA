{
 "cells": [
  {
   "cell_type": "code",
   "execution_count": null,
   "id": "d6bbb744",
   "metadata": {},
   "outputs": [],
   "source": [
    "import pandas as pd\n",
    "import matplotlib.pyplot as plt\n",
    "import numpy as np\n",
    "import scanpy as sc\n",
    "import scipy\n",
    "from scipy import stats\n",
    "from scanpy import AnnData\n",
    "import seaborn as sns\n",
    "import cobra as cb"
   ]
  },
  {
   "cell_type": "code",
   "execution_count": null,
   "id": "f2a37478",
   "metadata": {},
   "outputs": [],
   "source": [
    "plt.rcParams.update({'font.size': 20})"
   ]
  },
  {
   "cell_type": "code",
   "execution_count": null,
   "id": "170f0687",
   "metadata": {},
   "outputs": [],
   "source": [
    "npcs=[5,10,15,20]\n",
    "neigh=[5,10,15,20]"
   ]
  },
  {
   "cell_type": "code",
   "execution_count": null,
   "id": "9e32acb7",
   "metadata": {},
   "outputs": [],
   "source": [
    "strategy=\"magic_counts\""
   ]
  },
  {
   "cell_type": "code",
   "execution_count": null,
   "id": "632ebcb9",
   "metadata": {
    "scrolled": true
   },
   "outputs": [],
   "source": [
    "fig,axes=plt.subplots(5,2,figsize= (20,30))"
   ]
  },
  {
   "cell_type": "code",
   "execution_count": null,
   "id": "82f74b7d",
   "metadata": {},
   "outputs": [],
   "source": [
    "j=0\n",
    "for file_input in [\"datasetGSE110949\",\"datasetGSE118056\"]:\n",
    "    flux_adata=sc.read_h5ad(\"outputs/fluxes/\"+file_input+\"_\"+strategy)\n",
    "    flux_adata\n",
    "\n",
    "    \n",
    "    if file_input==\"datasetGSE110949\":\n",
    "        df=pd.read_csv(\"outputs/cell_cycle_information/datasetGSE110949cell_cycle_phases.csv\",index_col=0)\n",
    "    else:\n",
    "        df=pd.read_csv(\"outputs/cell_cycle_information/datasetGSE118056cell_cycle_phases.csv\",index_col=0)\n",
    "\n",
    "    flux_adata.obs[\"phase\"]=df[\"phase\"]\n",
    "    flux_adata.obs[\"S_score\"]=df[\"S_score\"]\n",
    "    flux_adata.obs[\"G2M_score\"]=df[\"G2M_score\"]\n",
    "    #flux_adata.obs=flux_adata.obs.sort_values(by=\"phase\")\n",
    "\n",
    "    fluxes=flux_adata.to_df().T\n",
    "\n",
    "    r, p = scipy.stats.spearmanr(fluxes.loc[\"Biomass\"].values,flux_adata.obs[\"S_score\"].values)\n",
    "    sns.scatterplot(fluxes.loc[\"Biomass\"].values,flux_adata.obs[\"S_score\"].values,hue=flux_adata.obs[\"phase\"].values,ax=axes[3,j])    \n",
    "    \n",
    "    axes[3,j].set_xlabel(\"Biomass\")\n",
    "    axes[3,j].set_ylabel(\"S_score\")\n",
    "    axes[3,j].title.set_text(\"\".join(['r: ',str(np.round(r,2)),\" \",\"p: \",format(p,'.1E') ]))\n",
    "    axes[3,j].grid()\n",
    "    \n",
    "    r, p = scipy.stats.spearmanr(fluxes.loc[\"Biomass\"].values,flux_adata.obs[\"G2M_score\"].values)\n",
    "    sns.scatterplot(fluxes.loc[\"Biomass\"].values,flux_adata.obs[\"G2M_score\"].values,hue=flux_adata.obs[\"phase\"].values,ax=axes[4,j])\n",
    "    \n",
    "    axes[4,j].set_xlabel(\"Biomass\")\n",
    "    axes[4,j].set_ylabel(\"G2M_score\")\n",
    "    axes[4,j].title.set_text(\"\".join(['r: ',str(np.round(r,2)),\" \",\"p: \",format(p,'.1E') ]))\n",
    "    axes[4,j].grid()\n",
    "    \n",
    "    adata2=AnnData(fluxes.T)\n",
    "    adata2.obs=flux_adata.obs\n",
    "    adata2\n",
    "\n",
    "    sc.pl.violin(adata2,keys=[\"Biomass\"],groupby=\"phase\",order =[\"G1\",\"S\",\"G2M\"],ax=axes[2,j])\n",
    "\n",
    "\n",
    "    index=flux_adata.to_df().loc[flux_adata.to_df()[\"Biomass\"]>0].index\n",
    "    flux_adata=flux_adata[index,:]\n",
    "\n",
    "    #sc.pp.filter_genes(flux_adata,min_cells=1)\n",
    "    sc.pp.scale(flux_adata)\n",
    "    sc.tl.pca(flux_adata, svd_solver='arpack')\n",
    "\n",
    "    sc.pp.neighbors(flux_adata, n_neighbors=15 ,n_pcs=5)\n",
    "    sc.tl.umap(flux_adata,random_state=0)#,init_pos=\"paga\")#,n_components=3)\n",
    "    sc.pl.umap(flux_adata, color=['countmatrix_Type'],title=\"\",return_fig=False,ax=axes[0,j],legend_fontsize=10)  \n",
    "\n",
    "    sc.pl.umap(flux_adata, color=['phase'],title=\"\",return_fig=False,ax=axes[1,j],legend_fontsize=10)  \n",
    "    \n",
    "    j=j+1"
   ]
  },
  {
   "cell_type": "code",
   "execution_count": null,
   "id": "cc8164ea",
   "metadata": {},
   "outputs": [],
   "source": [
    "\n",
    "axes[0,0].annotate(\"A\", xy=(-0.2, 0.9), xycoords=\"axes fraction\",fontsize=30)\n",
    "axes[1,0].annotate(\"C\", xy=(-0.2, 0.9), xycoords=\"axes fraction\",fontsize=30)\n",
    "axes[2,0].annotate(\"E\", xy=(-0.2, 0.9), xycoords=\"axes fraction\",fontsize=30)\n",
    "axes[3,0].annotate(\"G\", xy=(-0.2, 0.9), xycoords=\"axes fraction\",fontsize=30)\n",
    "axes[4,0].annotate(\"I\", xy=(-0.2, 0.9), xycoords=\"axes fraction\",fontsize=30)\n",
    "\n",
    "axes[0,1].annotate(\"B\", xy=(-0.2, 0.9), xycoords=\"axes fraction\",fontsize=30)\n",
    "axes[1,1].annotate(\"D\", xy=(-0.2, 0.9), xycoords=\"axes fraction\",fontsize=30)\n",
    "axes[2,1].annotate(\"F\", xy=(-0.2, 0.9), xycoords=\"axes fraction\",fontsize=30)\n",
    "axes[3,1].annotate(\"H\", xy=(-0.2, 0.9), xycoords=\"axes fraction\",fontsize=30)\n",
    "axes[4,1].annotate(\"L\", xy=(-0.2, 0.9), xycoords=\"axes fraction\",fontsize=30)"
   ]
  },
  {
   "cell_type": "code",
   "execution_count": null,
   "id": "acf86da9",
   "metadata": {},
   "outputs": [],
   "source": [
    "fig.tight_layout()\n",
    "fig"
   ]
  },
  {
   "cell_type": "code",
   "execution_count": null,
   "id": "3308c2ba",
   "metadata": {},
   "outputs": [],
   "source": [
    "fig.savefig(\"images/biomass_vs_cellcycle_analysis.png\")"
   ]
  },
  {
   "cell_type": "code",
   "execution_count": null,
   "id": "01d04b4c",
   "metadata": {},
   "outputs": [],
   "source": []
  }
 ],
 "metadata": {
  "kernelspec": {
   "display_name": "Python 3 (ipykernel)",
   "language": "python",
   "name": "python3"
  },
  "language_info": {
   "codemirror_mode": {
    "name": "ipython",
    "version": 3
   },
   "file_extension": ".py",
   "mimetype": "text/x-python",
   "name": "python",
   "nbconvert_exporter": "python",
   "pygments_lexer": "ipython3",
   "version": "3.9.12"
  }
 },
 "nbformat": 4,
 "nbformat_minor": 5
}
